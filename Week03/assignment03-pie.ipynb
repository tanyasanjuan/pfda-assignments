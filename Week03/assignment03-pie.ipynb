{
 "cells": [
  {
   "cell_type": "markdown",
   "id": "682ee4a2",
   "metadata": {},
   "source": [
    "# Assignment 3 domains"
   ]
  },
  {
   "cell_type": "markdown",
   "id": "550e5795",
   "metadata": {},
   "source": [
    "The main purpose of this notebook is to display a nice pie chart of peoples email domains in the csv file at the follow url: \n",
    "https://drive.google.com/uc?id=1AWPf-pJodJKeHsARQK_RHiNsE8fjPCVK&export=download"
   ]
  },
  {
   "cell_type": "markdown",
   "id": "baf99606",
   "metadata": {},
   "source": [
    "## Import pandas \n",
    "And read the file from the URL"
   ]
  },
  {
   "cell_type": "code",
   "execution_count": 22,
   "id": "a863d3dd",
   "metadata": {},
   "outputs": [],
   "source": [
    "import pandas as pd"
   ]
  },
  {
   "cell_type": "markdown",
   "id": "9d5e556b",
   "metadata": {},
   "source": [
    "## Read in the CSV file"
   ]
  },
  {
   "cell_type": "code",
   "execution_count": 23,
   "id": "db224e49",
   "metadata": {},
   "outputs": [
    {
     "name": "stdout",
     "output_type": "stream",
     "text": [
      "   Index          User Id First Name Last Name     Sex  \\\n",
      "0      1  8717bbf45cCDbEe     Shelia   Mahoney    Male   \n",
      "1      2  3d5AD30A4cD38ed         Jo    Rivers  Female   \n",
      "2      3  810Ce0F276Badec     Sheryl    Lowery  Female   \n",
      "3      4  BF2a889C00f0cE1    Whitney    Hooper    Male   \n",
      "4      5  9afFEafAe1CBBB9    Lindsey      Rice  Female   \n",
      "\n",
      "                           Email               Phone Date of birth  \\\n",
      "0            pwarner@example.org        857.139.8239    2014-01-27   \n",
      "1  fergusonkatherine@example.net     +1-950-759-8687    1931-07-26   \n",
      "2            fhoward@example.org       (599)782-0605    2013-11-25   \n",
      "3          zjohnston@example.com     +1-939-130-6258    2012-11-17   \n",
      "4               elin@example.net  (390)417-1635x3010    1923-04-15   \n",
      "\n",
      "                  Job Title  \n",
      "0         Probation officer  \n",
      "1                    Dancer  \n",
      "2                      Copy  \n",
      "3  Counselling psychologist  \n",
      "4       Biomedical engineer  \n"
     ]
    }
   ],
   "source": [
    "url = \"https://drive.google.com/uc?id=1AWPf-pJodJKeHsARQK_RHiNsE8fjPCVK&export=download\"\n",
    "df = pd.read_csv(url)\n",
    "print(df.head())"
   ]
  },
  {
   "cell_type": "code",
   "execution_count": 24,
   "id": "32358c81",
   "metadata": {},
   "outputs": [
    {
     "name": "stdout",
     "output_type": "stream",
     "text": [
      "<class 'pandas.core.frame.DataFrame'>\n",
      "RangeIndex: 1000 entries, 0 to 999\n",
      "Data columns (total 9 columns):\n",
      " #   Column         Non-Null Count  Dtype \n",
      "---  ------         --------------  ----- \n",
      " 0   Index          1000 non-null   int64 \n",
      " 1   User Id        1000 non-null   object\n",
      " 2   First Name     1000 non-null   object\n",
      " 3   Last Name      1000 non-null   object\n",
      " 4   Sex            1000 non-null   object\n",
      " 5   Email          1000 non-null   object\n",
      " 6   Phone          1000 non-null   object\n",
      " 7   Date of birth  1000 non-null   object\n",
      " 8   Job Title      1000 non-null   object\n",
      "dtypes: int64(1), object(8)\n",
      "memory usage: 70.4+ KB\n",
      "None\n"
     ]
    }
   ],
   "source": [
    "# Check the info of the dataframe\n",
    "df = pd.read_csv(url)\n",
    "print(df.info())"
   ]
  },
  {
   "cell_type": "markdown",
   "id": "80329233",
   "metadata": {},
   "source": [
    "We will focus on get the data from 'Email' column, to display a pie chart of peoples email domains."
   ]
  },
  {
   "cell_type": "code",
   "execution_count": 25,
   "id": "819eb67b",
   "metadata": {},
   "outputs": [
    {
     "name": "stdout",
     "output_type": "stream",
     "text": [
      "   Index          User Id First Name Last Name     Sex  \\\n",
      "0      1  8717bbf45cCDbEe     Shelia   Mahoney    Male   \n",
      "1      2  3d5AD30A4cD38ed         Jo    Rivers  Female   \n",
      "2      3  810Ce0F276Badec     Sheryl    Lowery  Female   \n",
      "\n",
      "                           Email            Phone Date of birth  \\\n",
      "0            pwarner@example.org     857.139.8239    2014-01-27   \n",
      "1  fergusonkatherine@example.net  +1-950-759-8687    1931-07-26   \n",
      "2            fhoward@example.org    (599)782-0605    2013-11-25   \n",
      "\n",
      "           Job Title  \n",
      "0  Probation officer  \n",
      "1             Dancer  \n",
      "2               Copy  \n"
     ]
    }
   ],
   "source": [
    "people_df = pd.read_csv(url)\n",
    "print(people_df.head(3))"
   ]
  },
  {
   "cell_type": "code",
   "execution_count": 28,
   "id": "12402def",
   "metadata": {},
   "outputs": [
    {
     "data": {
      "text/html": [
       "<div>\n",
       "<style scoped>\n",
       "    .dataframe tbody tr th:only-of-type {\n",
       "        vertical-align: middle;\n",
       "    }\n",
       "\n",
       "    .dataframe tbody tr th {\n",
       "        vertical-align: top;\n",
       "    }\n",
       "\n",
       "    .dataframe thead th {\n",
       "        text-align: right;\n",
       "    }\n",
       "</style>\n",
       "<table border=\"1\" class=\"dataframe\">\n",
       "  <thead>\n",
       "    <tr style=\"text-align: right;\">\n",
       "      <th></th>\n",
       "      <th>Index</th>\n",
       "      <th>User Id</th>\n",
       "      <th>First Name</th>\n",
       "      <th>Last Name</th>\n",
       "      <th>Sex</th>\n",
       "      <th>Email</th>\n",
       "      <th>Phone</th>\n",
       "      <th>Date of birth</th>\n",
       "      <th>Job Title</th>\n",
       "      <th>domain</th>\n",
       "    </tr>\n",
       "  </thead>\n",
       "  <tbody>\n",
       "    <tr>\n",
       "      <th>0</th>\n",
       "      <td>1</td>\n",
       "      <td>8717bbf45cCDbEe</td>\n",
       "      <td>Shelia</td>\n",
       "      <td>Mahoney</td>\n",
       "      <td>Male</td>\n",
       "      <td>pwarner@example.org</td>\n",
       "      <td>857.139.8239</td>\n",
       "      <td>2014-01-27</td>\n",
       "      <td>Probation officer</td>\n",
       "      <td>example.org</td>\n",
       "    </tr>\n",
       "    <tr>\n",
       "      <th>1</th>\n",
       "      <td>2</td>\n",
       "      <td>3d5AD30A4cD38ed</td>\n",
       "      <td>Jo</td>\n",
       "      <td>Rivers</td>\n",
       "      <td>Female</td>\n",
       "      <td>fergusonkatherine@example.net</td>\n",
       "      <td>+1-950-759-8687</td>\n",
       "      <td>1931-07-26</td>\n",
       "      <td>Dancer</td>\n",
       "      <td>example.net</td>\n",
       "    </tr>\n",
       "    <tr>\n",
       "      <th>2</th>\n",
       "      <td>3</td>\n",
       "      <td>810Ce0F276Badec</td>\n",
       "      <td>Sheryl</td>\n",
       "      <td>Lowery</td>\n",
       "      <td>Female</td>\n",
       "      <td>fhoward@example.org</td>\n",
       "      <td>(599)782-0605</td>\n",
       "      <td>2013-11-25</td>\n",
       "      <td>Copy</td>\n",
       "      <td>example.org</td>\n",
       "    </tr>\n",
       "    <tr>\n",
       "      <th>3</th>\n",
       "      <td>4</td>\n",
       "      <td>BF2a889C00f0cE1</td>\n",
       "      <td>Whitney</td>\n",
       "      <td>Hooper</td>\n",
       "      <td>Male</td>\n",
       "      <td>zjohnston@example.com</td>\n",
       "      <td>+1-939-130-6258</td>\n",
       "      <td>2012-11-17</td>\n",
       "      <td>Counselling psychologist</td>\n",
       "      <td>example.com</td>\n",
       "    </tr>\n",
       "    <tr>\n",
       "      <th>4</th>\n",
       "      <td>5</td>\n",
       "      <td>9afFEafAe1CBBB9</td>\n",
       "      <td>Lindsey</td>\n",
       "      <td>Rice</td>\n",
       "      <td>Female</td>\n",
       "      <td>elin@example.net</td>\n",
       "      <td>(390)417-1635x3010</td>\n",
       "      <td>1923-04-15</td>\n",
       "      <td>Biomedical engineer</td>\n",
       "      <td>example.net</td>\n",
       "    </tr>\n",
       "  </tbody>\n",
       "</table>\n",
       "</div>"
      ],
      "text/plain": [
       "   Index          User Id First Name Last Name     Sex  \\\n",
       "0      1  8717bbf45cCDbEe     Shelia   Mahoney    Male   \n",
       "1      2  3d5AD30A4cD38ed         Jo    Rivers  Female   \n",
       "2      3  810Ce0F276Badec     Sheryl    Lowery  Female   \n",
       "3      4  BF2a889C00f0cE1    Whitney    Hooper    Male   \n",
       "4      5  9afFEafAe1CBBB9    Lindsey      Rice  Female   \n",
       "\n",
       "                           Email               Phone Date of birth  \\\n",
       "0            pwarner@example.org        857.139.8239    2014-01-27   \n",
       "1  fergusonkatherine@example.net     +1-950-759-8687    1931-07-26   \n",
       "2            fhoward@example.org       (599)782-0605    2013-11-25   \n",
       "3          zjohnston@example.com     +1-939-130-6258    2012-11-17   \n",
       "4               elin@example.net  (390)417-1635x3010    1923-04-15   \n",
       "\n",
       "                  Job Title       domain  \n",
       "0         Probation officer  example.org  \n",
       "1                    Dancer  example.net  \n",
       "2                      Copy  example.org  \n",
       "3  Counselling psychologist  example.com  \n",
       "4       Biomedical engineer  example.net  "
      ]
     },
     "execution_count": 28,
     "metadata": {},
     "output_type": "execute_result"
    }
   ],
   "source": [
    "#We will focus on get the data from 'Email' column, to display a pie chart of peoples email domains.\n",
    "people_df['domain'] = people_df['Email'].str.split('@').str[1]\n",
    "people_df.head(5)"
   ]
  },
  {
   "cell_type": "markdown",
   "id": "07afdc2a",
   "metadata": {},
   "source": [
    "There are three different type of domains:\n",
    "- example.org\n",
    "- example.net\n",
    "- example.com\n",
    "\n",
    "From those, we will display a pie chart."
   ]
  },
  {
   "cell_type": "markdown",
   "id": "844a03e1",
   "metadata": {},
   "source": [
    "End"
   ]
  }
 ],
 "metadata": {
  "kernelspec": {
   "display_name": "base",
   "language": "python",
   "name": "python3"
  },
  "language_info": {
   "codemirror_mode": {
    "name": "ipython",
    "version": 3
   },
   "file_extension": ".py",
   "mimetype": "text/x-python",
   "name": "python",
   "nbconvert_exporter": "python",
   "pygments_lexer": "ipython3",
   "version": "3.12.7"
  }
 },
 "nbformat": 4,
 "nbformat_minor": 5
}
